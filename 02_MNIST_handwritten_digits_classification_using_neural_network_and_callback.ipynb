{
 "cells": [
  {
   "cell_type": "code",
   "execution_count": 23,
   "metadata": {},
   "outputs": [],
   "source": [
    "import tensorflow as tf\n",
    "from os import path, getcwd, chdir\n",
    "\n",
    "path = f\"{getcwd()}/../tmp2/mnist.npz\""
   ]
  },
  {
   "cell_type": "code",
   "execution_count": 24,
   "metadata": {
    "colab": {},
    "colab_type": "code",
    "id": "9rvXQGAA0ssC"
   },
   "outputs": [],
   "source": [
    "def train_mnist():\n",
    "    \n",
    "    class myCallback(tf.keras.callbacks.Callback):\n",
    "        def on_epoch_end(self,epoch,logs = {}):\n",
    "            if(logs.get('acc')>0.99):\n",
    "                print('accuracy is greater than 0.99 so cancelling training')\n",
    "                self.model.stop_training = True\n",
    "    \n",
    "    callbacks  = myCallback()\n",
    "\n",
    "    mnist = tf.keras.datasets.mnist\n",
    "\n",
    "    (x_train, y_train),(x_test, y_test) = mnist.load_data(path=path)\n",
    "    \n",
    "    x_train = x_train/255.0\n",
    "    x_test = x_test/255.0\n",
    "    \n",
    "    model = tf.keras.models.Sequential([\n",
    "        \n",
    "        tf.keras.layers.Flatten(input_shape = (28,28)),\n",
    "        tf.keras.layers.Dense(128,activation = tf.nn.relu),\n",
    "        tf.keras.layers.Dense(10,activation = tf.nn.softmax)\n",
    "    ])\n",
    "\n",
    "    model.compile(optimizer='adam',\n",
    "                  loss='sparse_categorical_crossentropy',\n",
    "                  metrics=['accuracy'])\n",
    "    \n",
    "    history = model.fit(x_train,y_train,epochs = 10,callbacks = [callbacks])\n",
    "    \n",
    "    return history.epoch, history.history['acc'][-1]"
   ]
  },
  {
   "cell_type": "code",
   "execution_count": 25,
   "metadata": {
    "colab": {},
    "colab_type": "code",
    "id": "9rvXQGAA0ssC"
   },
   "outputs": [
    {
     "name": "stdout",
     "output_type": "stream",
     "text": [
      "Epoch 1/10\n",
      "60000/60000 [==============================] - 9s 145us/sample - loss: 0.2627 - acc: 0.9246\n",
      "Epoch 2/10\n",
      "60000/60000 [==============================] - 9s 145us/sample - loss: 0.1178 - acc: 0.9646\n",
      "Epoch 3/10\n",
      "60000/60000 [==============================] - 9s 145us/sample - loss: 0.0806 - acc: 0.9756\n",
      "Epoch 4/10\n",
      "60000/60000 [==============================] - 8s 138us/sample - loss: 0.0600 - acc: 0.9823\n",
      "Epoch 5/10\n",
      "60000/60000 [==============================] - 8s 140us/sample - loss: 0.0476 - acc: 0.9852\n",
      "Epoch 6/10\n",
      "60000/60000 [==============================] - 9s 144us/sample - loss: 0.0372 - acc: 0.9883\n",
      "Epoch 7/10\n",
      "59744/60000 [============================>.] - ETA: 0s - loss: 0.0298 - acc: 0.9911accuracy is greater than 0.99 so cancelling training\n",
      "60000/60000 [==============================] - 8s 141us/sample - loss: 0.0298 - acc: 0.9911\n"
     ]
    },
    {
     "data": {
      "text/plain": [
       "([0, 1, 2, 3, 4, 5, 6], 0.99105)"
      ]
     },
     "execution_count": 25,
     "metadata": {},
     "output_type": "execute_result"
    }
   ],
   "source": [
    "train_mnist()"
   ]
  }
 ],
 "metadata": {
  "coursera": {
   "course_slug": "introduction-tensorflow",
   "graded_item_id": "d6dew",
   "launcher_item_id": "FExZ4"
  },
  "kernelspec": {
   "display_name": "Python 3",
   "language": "python",
   "name": "python3"
  },
  "language_info": {
   "codemirror_mode": {
    "name": "ipython",
    "version": 3
   },
   "file_extension": ".py",
   "mimetype": "text/x-python",
   "name": "python",
   "nbconvert_exporter": "python",
   "pygments_lexer": "ipython3",
   "version": "3.6.8"
  }
 },
 "nbformat": 4,
 "nbformat_minor": 1
}
