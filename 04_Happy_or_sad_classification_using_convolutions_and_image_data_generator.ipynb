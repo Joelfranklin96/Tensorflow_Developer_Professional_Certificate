{
 "cells": [
  {
   "cell_type": "code",
   "execution_count": 31,
   "metadata": {},
   "outputs": [],
   "source": [
    "import tensorflow as tf\n",
    "import os\n",
    "import zipfile\n",
    "from os import path, getcwd, chdir\n",
    "\n",
    "path = f\"{getcwd()}/../tmp2/happy-or-sad.zip\"\n",
    "\n",
    "zip_ref = zipfile.ZipFile(path, 'r')\n",
    "zip_ref.extractall(\"/tmp/h-or-s\")\n",
    "zip_ref.close()"
   ]
  },
  {
   "cell_type": "code",
   "execution_count": 32,
   "metadata": {},
   "outputs": [],
   "source": [
    "def train_happy_sad_model():\n",
    "\n",
    "    desired_accuracy = 0.999\n",
    "\n",
    "    class myCallback(tf.keras.callbacks.Callback):\n",
    "        def on_epoch_end(self,epoch,logs = {}):\n",
    "            if (logs.get('acc')>desired_accuracy):\n",
    "                print('\\nAccuracy is greater than 0.999, so cancelling training')\n",
    "                self.model.stop_training = True\n",
    "    \n",
    "    callbacks = myCallback()\n",
    "    \n",
    "    model = tf.keras.models.Sequential([\n",
    "        tf.keras.layers.Conv2D(64,(3,3),activation = 'relu',input_shape = (150,150,3)),\n",
    "        tf.keras.layers.MaxPooling2D((2,2)),\n",
    "        tf.keras.layers.Conv2D(32,(3,3),activation = 'relu'),\n",
    "        tf.keras.layers.MaxPooling2D((2,2)),\n",
    "        tf.keras.layers.Conv2D(32,(3,3),activation = 'relu'),\n",
    "        tf.keras.layers.MaxPooling2D((2,2)),\n",
    "        tf.keras.layers.Flatten(),\n",
    "        tf.keras.layers.Dense(512, activation = 'relu'),\n",
    "        tf.keras.layers.Dense(1,activation = 'sigmoid')])   \n",
    "\n",
    "    from tensorflow.keras.optimizers import RMSprop\n",
    "\n",
    "    model.compile(optimizer = RMSprop(lr =0.001),loss = 'binary_crossentropy',metrics = ['acc'])\n",
    "        \n",
    "    from tensorflow.keras.preprocessing.image import ImageDataGenerator\n",
    "\n",
    "    train_datagen = ImageDataGenerator(rescale = 1./255)\n",
    "\n",
    "    train_generator = train_datagen.flow_from_directory(\n",
    "        \"/tmp/h-or-s\",\n",
    "        target_size = (150,150),\n",
    "        batch_size = 10,\n",
    "        class_mode = 'binary')\n",
    "        \n",
    "    history = model.fit_generator(\n",
    "        train_generator,\n",
    "        steps_per_epoch = 2,\n",
    "        epochs = 20,\n",
    "        verbose = 1,\n",
    "        callbacks = [callbacks])\n",
    "        \n",
    "    return history.history['acc'][-1]"
   ]
  },
  {
   "cell_type": "code",
   "execution_count": 33,
   "metadata": {},
   "outputs": [
    {
     "name": "stdout",
     "output_type": "stream",
     "text": [
      "Found 80 images belonging to 2 classes.\n",
      "Epoch 1/20\n",
      "2/2 [==============================] - 2s 1s/step - loss: 2.8378 - acc: 0.6500\n",
      "Epoch 2/20\n",
      "2/2 [==============================] - 0s 7ms/step - loss: 0.9336 - acc: 0.4000\n",
      "Epoch 3/20\n",
      "2/2 [==============================] - 0s 39ms/step - loss: 1.0292 - acc: 0.5500\n",
      "Epoch 4/20\n",
      "2/2 [==============================] - 0s 7ms/step - loss: 0.7561 - acc: 0.3000\n",
      "Epoch 5/20\n",
      "2/2 [==============================] - 0s 88ms/step - loss: 0.6965 - acc: 0.3500\n",
      "Epoch 6/20\n",
      "2/2 [==============================] - 0s 49ms/step - loss: 0.6721 - acc: 0.5500\n",
      "Epoch 7/20\n",
      "2/2 [==============================] - 0s 50ms/step - loss: 0.6697 - acc: 0.4000\n",
      "Epoch 8/20\n",
      "2/2 [==============================] - 0s 49ms/step - loss: 0.6938 - acc: 0.6500\n",
      "Epoch 9/20\n",
      "2/2 [==============================] - 0s 49ms/step - loss: 0.6119 - acc: 0.8500\n",
      "Epoch 10/20\n",
      "2/2 [==============================] - 0s 49ms/step - loss: 0.5278 - acc: 0.8000\n",
      "Epoch 11/20\n",
      "2/2 [==============================] - 0s 49ms/step - loss: 0.9129 - acc: 0.3500\n",
      "Epoch 12/20\n",
      "2/2 [==============================] - 0s 52ms/step - loss: 0.3572 - acc: 0.9500\n",
      "Epoch 13/20\n",
      "2/2 [==============================] - 0s 50ms/step - loss: 0.5997 - acc: 0.7000\n",
      "Epoch 14/20\n",
      "2/2 [==============================] - 0s 52ms/step - loss: 0.2602 - acc: 0.9500\n",
      "Epoch 15/20\n",
      "2/2 [==============================] - 0s 50ms/step - loss: 0.2638 - acc: 0.8500\n",
      "Epoch 16/20\n",
      "2/2 [==============================] - 0s 50ms/step - loss: 0.1688 - acc: 0.9500\n",
      "Epoch 17/20\n",
      "1/2 [==============>...............] - ETA: 0s - loss: 0.0563 - acc: 1.0000\n",
      "Accuracy is greater than 0.999, so cancelling training\n",
      "2/2 [==============================] - 0s 90ms/step - loss: 0.0473 - acc: 1.0000\n"
     ]
    },
    {
     "data": {
      "text/plain": [
       "1.0"
      ]
     },
     "execution_count": 33,
     "metadata": {},
     "output_type": "execute_result"
    }
   ],
   "source": [
    "train_happy_sad_model()"
   ]
  }
 ],
 "metadata": {
  "coursera": {
   "course_slug": "introduction-tensorflow",
   "graded_item_id": "1kAlw",
   "launcher_item_id": "PNLYD"
  },
  "kernelspec": {
   "display_name": "Python 3",
   "language": "python",
   "name": "python3"
  },
  "language_info": {
   "codemirror_mode": {
    "name": "ipython",
    "version": 3
   },
   "file_extension": ".py",
   "mimetype": "text/x-python",
   "name": "python",
   "nbconvert_exporter": "python",
   "pygments_lexer": "ipython3",
   "version": "3.6.8"
  }
 },
 "nbformat": 4,
 "nbformat_minor": 1
}
