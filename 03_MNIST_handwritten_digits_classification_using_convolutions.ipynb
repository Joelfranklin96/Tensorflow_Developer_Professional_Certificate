{
 "cells": [
  {
   "cell_type": "code",
   "execution_count": 14,
   "metadata": {},
   "outputs": [],
   "source": [
    "import tensorflow as tf\n",
    "from os import path, getcwd, chdir\n",
    "path = f\"{getcwd()}/../tmp2/mnist.npz\""
   ]
  },
  {
   "cell_type": "code",
   "execution_count": 15,
   "metadata": {},
   "outputs": [],
   "source": [
    "config = tf.ConfigProto()\n",
    "config.gpu_options.allow_growth = True\n",
    "sess = tf.Session(config=config)"
   ]
  },
  {
   "cell_type": "code",
   "execution_count": 16,
   "metadata": {},
   "outputs": [],
   "source": [
    "def train_mnist_conv():\n",
    "    class myCallback(tf.keras.callbacks.Callback):\n",
    "        def on_epoch_end(self, epoch, logs={}):\n",
    "            if(logs.get('acc')>0.998):\n",
    "                print(\"\\nReached 99.8% accuracy so cancelling training!\")\n",
    "                self.model.stop_training = True\n",
    "\n",
    "    callbacks = myCallback()\n",
    "    mnist = tf.keras.datasets.mnist\n",
    "    (training_images, training_labels), (test_images, test_labels) = mnist.load_data()\n",
    "    training_images=training_images.reshape(60000, 28, 28, 1)\n",
    "    training_images=training_images / 255.0\n",
    "    test_images = test_images.reshape(10000, 28, 28, 1)\n",
    "    test_images=test_images/255.0\n",
    "    model = tf.keras.models.Sequential([\n",
    "      tf.keras.layers.Conv2D(32, (3,3), activation='relu', input_shape=(28, 28, 1)),\n",
    "      tf.keras.layers.MaxPooling2D(2, 2),\n",
    "      tf.keras.layers.Flatten(),\n",
    "      tf.keras.layers.Dense(128, activation='relu'),\n",
    "      tf.keras.layers.Dense(10, activation='softmax')\n",
    "    ])\n",
    "    model.compile(optimizer='adam', loss='sparse_categorical_crossentropy', metrics=['accuracy'])\n",
    "    history = model.fit(training_images, training_labels, epochs=10, callbacks=[callbacks])\n",
    "    return history.epoch, history.history['acc'][-1]"
   ]
  },
  {
   "cell_type": "code",
   "execution_count": 17,
   "metadata": {},
   "outputs": [
    {
     "name": "stdout",
     "output_type": "stream",
     "text": [
      "Epoch 1/10\n",
      "60000/60000 [==============================] - 12s 197us/sample - loss: 0.1562 - acc: 0.9535\n",
      "Epoch 2/10\n",
      "60000/60000 [==============================] - 13s 215us/sample - loss: 0.0528 - acc: 0.9843\n",
      "Epoch 3/10\n",
      "60000/60000 [==============================] - 12s 202us/sample - loss: 0.0337 - acc: 0.9892\n",
      "Epoch 4/10\n",
      "60000/60000 [==============================] - 12s 201us/sample - loss: 0.0222 - acc: 0.9927\n",
      "Epoch 5/10\n",
      "60000/60000 [==============================] - 12s 205us/sample - loss: 0.0151 - acc: 0.9950\n",
      "Epoch 6/10\n",
      "60000/60000 [==============================] - 12s 199us/sample - loss: 0.0105 - acc: 0.9965\n",
      "Epoch 7/10\n",
      "60000/60000 [==============================] - 12s 198us/sample - loss: 0.0086 - acc: 0.9972\n",
      "Epoch 8/10\n",
      "59776/60000 [============================>.] - ETA: 0s - loss: 0.0064 - acc: 0.9980\n",
      "Reached 99.8% accuracy so cancelling training!\n",
      "60000/60000 [==============================] - 12s 203us/sample - loss: 0.0064 - acc: 0.9980\n"
     ]
    }
   ],
   "source": [
    "_, _ = train_mnist_conv()"
   ]
  }
 ],
 "metadata": {
  "coursera": {
   "course_slug": "introduction-tensorflow",
   "graded_item_id": "ml06H",
   "launcher_item_id": "hQF8A"
  },
  "kernelspec": {
   "display_name": "Python 3",
   "language": "python",
   "name": "python3"
  },
  "language_info": {
   "codemirror_mode": {
    "name": "ipython",
    "version": 3
   },
   "file_extension": ".py",
   "mimetype": "text/x-python",
   "name": "python",
   "nbconvert_exporter": "python",
   "pygments_lexer": "ipython3",
   "version": "3.6.8"
  }
 },
 "nbformat": 4,
 "nbformat_minor": 1
}
